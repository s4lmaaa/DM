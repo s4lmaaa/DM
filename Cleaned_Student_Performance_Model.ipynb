{
 "cells": [
  {
   "cell_type": "markdown",
   "id": "fb792efc",
   "metadata": {},
   "source": [
    "# 🎓 Student Performance Prediction\n",
    "Predicting academic outcomes using behavioral, demographic, and academic features."
   ]
  },
  {
   "cell_type": "markdown",
   "id": "e17363cc",
   "metadata": {},
   "source": [
    "## 📂 Overview\n",
    "This project analyzes a dataset of high school students to predict final academic performance (grades A to F) using machine learning. The dataset includes features like parental education, study habits, attendance, and extracurricular participation."
   ]
  },
  {
   "cell_type": "markdown",
   "id": "60d28281",
   "metadata": {},
   "source": [
    "## 🎯 Objective\n",
    "Build a multiclass classification model to predict `GradeClass` (A–F) and identify key drivers of academic performance to support data-driven interventions."
   ]
  },
  {
   "cell_type": "markdown",
   "id": "7649ce76",
   "metadata": {},
   "source": [
    "## 🛠️ Tools & Technologies\n",
    "- Python  \n",
    "- Pandas, NumPy  \n",
    "- Scikit-learn  \n",
    "- Matplotlib, Seaborn  \n",
    "- SMOTE (from imbalanced-learn)"
   ]
  },
  {
   "cell_type": "markdown",
   "id": "c125921b",
   "metadata": {},
   "source": [
    "## 🧪 Methodology\n",
    "### 1. Data Cleaning & Preprocessing\n",
    "- Removed irrelevant features (`StudentID`, `GPA`)  \n",
    "- Handled class imbalance using SMOTE  \n",
    "- Scaled numeric features (`Absences`, `StudyTimeWeekly`) with `StandardScaler`"
   ]
  },
  {
   "cell_type": "code",
   "execution_count": 1,
   "id": "ac737744",
   "metadata": {},
   "outputs": [
    {
     "ename": "NameError",
     "evalue": "name 'df' is not defined",
     "output_type": "error",
     "traceback": [
      "\u001b[31m---------------------------------------------------------------------------\u001b[39m",
      "\u001b[31mNameError\u001b[39m                                 Traceback (most recent call last)",
      "\u001b[36mCell\u001b[39m\u001b[36m \u001b[39m\u001b[32mIn[1]\u001b[39m\u001b[32m, line 1\u001b[39m\n\u001b[32m----> \u001b[39m\u001b[32m1\u001b[39m \u001b[43mdf\u001b[49m.isnull().sum() \u001b[38;5;66;03m# Our data set has no missing values.\u001b[39;00m\n",
      "\u001b[31mNameError\u001b[39m: name 'df' is not defined"
     ]
    }
   ],
   "source": [
    "df.isnull().sum() # Our data set has no missing values."
   ]
  },
  {
   "cell_type": "code",
   "execution_count": null,
   "id": "c6523ba4",
   "metadata": {},
   "outputs": [],
   "source": [
    "df.drop(['StudentID', 'GPA'], axis=1, inplace=True)\n",
    "\n",
    "df.columns"
   ]
  },
  {
   "cell_type": "code",
   "execution_count": null,
   "id": "5d18c9af",
   "metadata": {},
   "outputs": [],
   "source": [
    "import matplotlib.pyplot as plt\n",
    "import seaborn as sns\n",
    "\n",
    "labels = [\"A\", \"B\", \"C\", \"D\", \"E\"]\n",
    "ticks = range(len(labels))\n",
    "\n",
    "sns.countplot(data = df, x= 'GradeClass', hue='GradeClass')\n",
    "plt.title('Distribution of Grade Classes')\n"
   ]
  },
  {
   "cell_type": "code",
   "execution_count": null,
   "id": "12567e2a",
   "metadata": {},
   "outputs": [],
   "source": [
    "grade_counts = df['GradeClass'].value_counts().sort_index()\n",
    "\n",
    "# Create labels and colors\n",
    "labels = ['Grade 0', 'Grade 1', 'Grade 2', 'Grade 3', 'Grade 4']\n",
    "\n",
    "\n",
    "# Plot pie chart\n",
    "plt.figure(figsize=(5,5))\n",
    "plt.pie(grade_counts,\n",
    "        autopct='%1.1f%%', \n",
    "        labels = labels,\n",
    "        colors = sns.color_palette(\"pastel\"),\n",
    "        startangle=90 )      \n",
    "\n",
    "plt.title('Grade Distribution')\n",
    "plt.tight_layout()\n",
    "plt.show()\n"
   ]
  },
  {
   "cell_type": "code",
   "execution_count": null,
   "id": "af116fd3",
   "metadata": {},
   "outputs": [],
   "source": [
    "plt.figure(figsize=(8,6))\n",
    "sns.heatmap(df.corr(), cmap='plasma', vmin=-1, vmax=1)\n",
    "plt.show()\n"
   ]
  },
  {
   "cell_type": "code",
   "execution_count": null,
   "id": "ea8b3178",
   "metadata": {},
   "outputs": [],
   "source": [
    "from sklearn.preprocessing import StandardScaler\n",
    "scaler = StandardScaler()\n",
    "\n",
    "num_columns =  ['Absences', 'StudyTimeWeekly']\n",
    "df[num_columns] = scaler.fit_transform(df[num_columns]) #scaling numerical columns.\n"
   ]
  },
  {
   "cell_type": "code",
   "execution_count": null,
   "id": "0568dccc",
   "metadata": {},
   "outputs": [],
   "source": [
    "pip install imblearn \n"
   ]
  },
  {
   "cell_type": "code",
   "execution_count": null,
   "id": "e01bbac7",
   "metadata": {},
   "outputs": [],
   "source": [
    "from imblearn.over_sampling import SMOTE # Synthetic Minority Over-sampling Technique\n",
    "\n",
    "smote = SMOTE()\n",
    "X = df.drop('GradeClass', axis=1) # to help balance the classes(avoid wrongful predictions because of the majority in the data)\n",
    "y = df['GradeClass']\n",
    "X_res, y_res = smote.fit_resample(X, y)"
   ]
  },
  {
   "cell_type": "code",
   "execution_count": null,
   "id": "4d7a0dff",
   "metadata": {},
   "outputs": [],
   "source": [
    "from sklearn.model_selection import train_test_split\n",
    "\n",
    "X_train, X_test, y_train, y_test = train_test_split(X, y, stratify=y, test_size=0.3, random_state=42)"
   ]
  },
  {
   "cell_type": "markdown",
   "id": "b06bb1b3",
   "metadata": {},
   "source": [
    "### 2. Exploratory Data Analysis (EDA)\n",
    "- Used countplots, pie charts, and correlation heatmaps  \n",
    "- Explored relationships between support systems, study habits, and outcomes"
   ]
  },
  {
   "cell_type": "code",
   "execution_count": null,
   "id": "4e2019b6",
   "metadata": {},
   "outputs": [],
   "source": [
    "from sklearn.tree import DecisionTreeClassifier\n",
    "dtree = DecisionTreeClassifier(criterion='entropy')\n",
    "dtree.fit(X_train,y_train)\n",
    "y_pred_dtree = dtree.predict(X_test)"
   ]
  },
  {
   "cell_type": "code",
   "execution_count": null,
   "id": "6a78d734",
   "metadata": {},
   "outputs": [],
   "source": [
    "from sklearn.neighbors import KNeighborsClassifier\n",
    "knn = KNeighborsClassifier()\n",
    "knn.fit(X_train, y_train)\n",
    "y_pred_knn = knn.predict(X_test)"
   ]
  },
  {
   "cell_type": "code",
   "execution_count": null,
   "id": "0fec8b85",
   "metadata": {},
   "outputs": [],
   "source": [
    "from sklearn.metrics import classification_report, confusion_matrix\n",
    "\n",
    "models = {'Tree': y_pred_dtree, 'KNN': y_pred_knn}\n",
    "for name, pred in models.items():\n",
    "    print(f\"== {name} ==\")\n",
    "    print(confusion_matrix(y_test, pred))\n",
    "    print(classification_report(y_test, pred))"
   ]
  },
  {
   "cell_type": "code",
   "execution_count": null,
   "id": "b1c4ae32",
   "metadata": {},
   "outputs": [],
   "source": [
    "importances = pd.Series(dtree.feature_importances_, index=X.columns)\n",
    "importances = importances.sort_values(ascending= False)\n",
    "\n",
    "plt.figure(figsize=(7,5))\n",
    "importances.head(10).plot(kind='barh', color='orange')\n",
    "plt.title(\"Top 10 Important Features - Decision Tree\")\n",
    "plt.xlabel(\"Feature Importance Score\")\n",
    "# plt.gca().invert_yaxis()\n",
    "plt.tight_layout()\n",
    "plt.show()"
   ]
  },
  {
   "cell_type": "markdown",
   "id": "09a1a900",
   "metadata": {},
   "source": [
    "### 3. Modeling\n",
    "- Trained classification models  \n",
    "- Split dataset (70% train / 30% test)  \n",
    "- Evaluated using accuracy, precision, recall, and confusion matrix"
   ]
  },
  {
   "cell_type": "markdown",
   "id": "9c24b112",
   "metadata": {},
   "source": [
    "## 📊 Results\n",
    "- Achieved an accuracy of XX% (*update with actual result*) on test data  \n",
    "- SMOTE improved performance on minority classes like Grade A and F  \n",
    "- Found strong correlation between study hours and grade class"
   ]
  },
  {
   "cell_type": "markdown",
   "id": "75f43f5c",
   "metadata": {},
   "source": [
    "## 🧠 Key Insights\n",
    "- Parental education and tutoring had significant impact on high performance  \n",
    "- Students with extracurricular activities and lower absences tended to score better  \n",
    "- Balancing classes improved the model’s fairness across all grade groups"
   ]
  },
  {
   "cell_type": "markdown",
   "id": "12c3990e",
   "metadata": {},
   "source": [
    "* Data Privacy, Data Security and any other ethical concerns.\n",
    "  - Privacy Concern: Recombining features or retaining identifiers such as Student ID can lead to re-identification of individual students. This poses a risk of the data being misused to trace academic results back to specific students, which could lead to stigmatization instead of providing constructive support.\n",
    "\n",
    "  - Ethical Concern: If the data used for modeling is not representative — for example, if certain races or groups are underrepresented — the model may learn biased patterns which can result in unfair predictions, reinforcing inequality rather than promoting fairness.\n",
    "\n",
    "* Possible Solutions:\n",
    "  - Anonymization of Student IDs: Replace identifiable student information (such as Student ID) with randomly generated codes that cannot be traced back to individual students.\n",
    "\n",
    "  - Fairness in Modeling: Apply techniques such as SMOTE (Synthetic Minority Oversampling Technique) to address class imbalance and ensure that underrepresented student groups are fairly represented.."
   ]
  },
  {
   "cell_type": "markdown",
   "id": "0d778be5",
   "metadata": {},
   "source": [
    "## 👥 Contributors\n",
    "- Hafsa Yahya  \n",
    "- Naiserian Kyama  \n",
    "- Eryca Wacuka  \n",
    "- Mercy Waruguru  \n",
    "- **Salima Ali Zeid**"
   ]
  }
 ],
 "metadata": {
  "kernelspec": {
   "display_name": "Python 3",
   "language": "python",
   "name": "python3"
  },
  "language_info": {
   "codemirror_mode": {
    "name": "ipython",
    "version": 3
   },
   "file_extension": ".py",
   "mimetype": "text/x-python",
   "name": "python",
   "nbconvert_exporter": "python",
   "pygments_lexer": "ipython3",
   "version": "3.13.5"
  }
 },
 "nbformat": 4,
 "nbformat_minor": 5
}
